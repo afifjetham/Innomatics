{
 "cells": [
  {
   "cell_type": "markdown",
   "id": "5307438e",
   "metadata": {},
   "source": [
    "# Descriptive Statistics and Python Implementation:"
   ]
  },
  {
   "cell_type": "code",
   "execution_count": 1,
   "id": "adfb91d9",
   "metadata": {},
   "outputs": [],
   "source": [
    "# importing important modules\n",
    "import pandas as pd\n",
    "import numpy as np\n",
    "import matplotlib.pyplot as plt\n",
    "import scipy.stats as stats\n",
    "%matplotlib inline\n",
    "import seaborn as sns\n",
    "import warnings\n",
    "import statsmodels.api as sm\n",
    "import pylab as py\n",
    "warnings.filterwarnings('ignore')"
   ]
  },
  {
   "cell_type": "code",
   "execution_count": 4,
   "id": "9131839f",
   "metadata": {},
   "outputs": [],
   "source": [
    "# reading data\n",
    "data = pd.read_csv(r\"C:\\Users\\TheWhiteWolf\\Desktop\\Afif\\Innomatics Internship\\Python Tasks\\Task_07\\data.csv\")"
   ]
  },
  {
   "cell_type": "code",
   "execution_count": 36,
   "id": "37b42aa5",
   "metadata": {},
   "outputs": [
    {
     "data": {
      "text/html": [
       "<div>\n",
       "<style scoped>\n",
       "    .dataframe tbody tr th:only-of-type {\n",
       "        vertical-align: middle;\n",
       "    }\n",
       "\n",
       "    .dataframe tbody tr th {\n",
       "        vertical-align: top;\n",
       "    }\n",
       "\n",
       "    .dataframe thead th {\n",
       "        text-align: right;\n",
       "    }\n",
       "</style>\n",
       "<table border=\"1\" class=\"dataframe\">\n",
       "  <thead>\n",
       "    <tr style=\"text-align: right;\">\n",
       "      <th></th>\n",
       "      <th>Mthly_HH_Income</th>\n",
       "      <th>Mthly_HH_Expense</th>\n",
       "      <th>No_of_Fly_Members</th>\n",
       "      <th>Emi_or_Rent_Amt</th>\n",
       "      <th>Annual_HH_Income</th>\n",
       "      <th>Highest_Qualified_Member</th>\n",
       "      <th>No_of_Earning_Members</th>\n",
       "    </tr>\n",
       "  </thead>\n",
       "  <tbody>\n",
       "    <tr>\n",
       "      <th>0</th>\n",
       "      <td>5000</td>\n",
       "      <td>8000</td>\n",
       "      <td>3</td>\n",
       "      <td>2000</td>\n",
       "      <td>64200</td>\n",
       "      <td>Under-Graduate</td>\n",
       "      <td>1</td>\n",
       "    </tr>\n",
       "    <tr>\n",
       "      <th>1</th>\n",
       "      <td>6000</td>\n",
       "      <td>7000</td>\n",
       "      <td>2</td>\n",
       "      <td>3000</td>\n",
       "      <td>79920</td>\n",
       "      <td>Illiterate</td>\n",
       "      <td>1</td>\n",
       "    </tr>\n",
       "    <tr>\n",
       "      <th>2</th>\n",
       "      <td>10000</td>\n",
       "      <td>4500</td>\n",
       "      <td>2</td>\n",
       "      <td>0</td>\n",
       "      <td>112800</td>\n",
       "      <td>Under-Graduate</td>\n",
       "      <td>1</td>\n",
       "    </tr>\n",
       "    <tr>\n",
       "      <th>3</th>\n",
       "      <td>10000</td>\n",
       "      <td>2000</td>\n",
       "      <td>1</td>\n",
       "      <td>0</td>\n",
       "      <td>97200</td>\n",
       "      <td>Illiterate</td>\n",
       "      <td>1</td>\n",
       "    </tr>\n",
       "    <tr>\n",
       "      <th>4</th>\n",
       "      <td>12500</td>\n",
       "      <td>12000</td>\n",
       "      <td>2</td>\n",
       "      <td>3000</td>\n",
       "      <td>147000</td>\n",
       "      <td>Graduate</td>\n",
       "      <td>1</td>\n",
       "    </tr>\n",
       "  </tbody>\n",
       "</table>\n",
       "</div>"
      ],
      "text/plain": [
       "   Mthly_HH_Income  Mthly_HH_Expense  No_of_Fly_Members  Emi_or_Rent_Amt  \\\n",
       "0             5000              8000                  3             2000   \n",
       "1             6000              7000                  2             3000   \n",
       "2            10000              4500                  2                0   \n",
       "3            10000              2000                  1                0   \n",
       "4            12500             12000                  2             3000   \n",
       "\n",
       "   Annual_HH_Income Highest_Qualified_Member  No_of_Earning_Members  \n",
       "0             64200           Under-Graduate                      1  \n",
       "1             79920               Illiterate                      1  \n",
       "2            112800           Under-Graduate                      1  \n",
       "3             97200               Illiterate                      1  \n",
       "4            147000                 Graduate                      1  "
      ]
     },
     "execution_count": 36,
     "metadata": {},
     "output_type": "execute_result"
    }
   ],
   "source": [
    "# first 5 lines of data\n",
    "data.head()"
   ]
  },
  {
   "cell_type": "markdown",
   "id": "2bcd59c7",
   "metadata": {},
   "source": [
    "## 1) Mean:\n",
    "* Often called as Average.\n",
    "* Mean = $ Σx/n $ , where $ Σx $ is the sum of quantities, while n is the number of quantities."
   ]
  },
  {
   "cell_type": "markdown",
   "id": "fab89ce4",
   "metadata": {},
   "source": [
    "Example without library function: Mean of \"Annual_HH_Income\"."
   ]
  },
  {
   "cell_type": "code",
   "execution_count": 37,
   "id": "eb6d19ea",
   "metadata": {},
   "outputs": [
    {
     "data": {
      "text/plain": [
       "490019.04"
      ]
     },
     "execution_count": 37,
     "metadata": {},
     "output_type": "execute_result"
    }
   ],
   "source": [
    "sum(data['Annual_HH_Income'])/len(data['Annual_HH_Income'])"
   ]
  },
  {
   "cell_type": "markdown",
   "id": "d6215339",
   "metadata": {},
   "source": [
    "Example with library function: Mean of \"Annual_HH_Income\"."
   ]
  },
  {
   "cell_type": "code",
   "execution_count": 38,
   "id": "d643f898",
   "metadata": {},
   "outputs": [
    {
     "data": {
      "text/plain": [
       "490019.04"
      ]
     },
     "execution_count": 38,
     "metadata": {},
     "output_type": "execute_result"
    }
   ],
   "source": [
    "np.mean(data['Annual_HH_Income'])"
   ]
  },
  {
   "cell_type": "markdown",
   "id": "fd3277fe",
   "metadata": {},
   "source": [
    "<img src=\"mean.jpg\" alt=\"drawing\" style=\"width:400px;\"/>"
   ]
  },
  {
   "cell_type": "markdown",
   "id": "2be6e1fe",
   "metadata": {},
   "source": [
    "## 2) Median:\n",
    "* Median is nothing but the absolute central value of the data set."
   ]
  },
  {
   "cell_type": "markdown",
   "id": "02a65493",
   "metadata": {},
   "source": [
    "Example without library function: Mean of \"Annual_HH_Income\"."
   ]
  },
  {
   "cell_type": "code",
   "execution_count": 39,
   "id": "592204d2",
   "metadata": {},
   "outputs": [
    {
     "name": "stdout",
     "output_type": "stream",
     "text": [
      "The median of the given numbers Annual_HH_Income is 447420.0\n"
     ]
    }
   ],
   "source": [
    "income = data['Annual_HH_Income'].sort_values().reset_index(drop = True)\n",
    "length = len(income)\n",
    "if length % 2 == 0:\n",
    "    median1 = income[length//2]\n",
    "    median2 = income[length//2 - 1]\n",
    "    median = (median1 + median2)/2\n",
    "else:\n",
    "    median = income[length//2]\n",
    "print(\"The median of the given numbers Annual_HH_Income is\", median)"
   ]
  },
  {
   "cell_type": "markdown",
   "id": "bb431e02",
   "metadata": {},
   "source": [
    "Example with library function: Mean of \"Annual_HH_Income\"."
   ]
  },
  {
   "cell_type": "code",
   "execution_count": 40,
   "id": "0669f570",
   "metadata": {},
   "outputs": [
    {
     "data": {
      "text/plain": [
       "447420.0"
      ]
     },
     "execution_count": 40,
     "metadata": {},
     "output_type": "execute_result"
    }
   ],
   "source": [
    "np.median(data['Annual_HH_Income'])"
   ]
  },
  {
   "cell_type": "markdown",
   "id": "fe4424ae",
   "metadata": {},
   "source": [
    "<img src=\"median.png\" alt=\"drawing\" style=\"width:400px;\"/>"
   ]
  },
  {
   "cell_type": "markdown",
   "id": "c4cc3b4a",
   "metadata": {},
   "source": [
    "## 3) Mode:\n",
    "* It is the number which occurs most frequently in the data series.\n",
    "* It is robust and is not generally affected much by addition of a couple of new values."
   ]
  },
  {
   "cell_type": "markdown",
   "id": "5f7f99a2",
   "metadata": {},
   "source": [
    "Example without library function: Mode of \"Highest_Qualified_Member\"."
   ]
  },
  {
   "cell_type": "code",
   "execution_count": 41,
   "id": "752ca65c",
   "metadata": {},
   "outputs": [
    {
     "name": "stdout",
     "output_type": "stream",
     "text": [
      "Graduate\n"
     ]
    }
   ],
   "source": [
    "num_list = data['Highest_Qualified_Member']\n",
    "\n",
    "dic = dict(data['Highest_Qualified_Member'].value_counts())\n",
    "\n",
    "max_value = max(list(dic.values()))\n",
    "mode_val = [num for num, freq in dic.items() if freq == max_value]\n",
    "if len(mode_val) == len(num_list):\n",
    "    print(\"No mode in the list\")\n",
    "else:\n",
    "    print(''.join(map(str, mode_val)))"
   ]
  },
  {
   "cell_type": "markdown",
   "id": "35590ddb",
   "metadata": {},
   "source": [
    "Example with library function: Mode of \"Highest_Qualified_Member\"."
   ]
  },
  {
   "cell_type": "code",
   "execution_count": 42,
   "id": "0053aba3",
   "metadata": {},
   "outputs": [
    {
     "data": {
      "text/plain": [
       "0    Graduate\n",
       "Name: Highest_Qualified_Member, dtype: object"
      ]
     },
     "execution_count": 42,
     "metadata": {},
     "output_type": "execute_result"
    }
   ],
   "source": [
    "data['Highest_Qualified_Member'].mode()"
   ]
  },
  {
   "cell_type": "markdown",
   "id": "fed74f2e",
   "metadata": {},
   "source": [
    "<img src=\"mode.jpg\" alt=\"drawing\" style=\"width:400px;\"/>"
   ]
  },
  {
   "cell_type": "markdown",
   "id": "af7dc8d4",
   "metadata": {},
   "source": [
    "## 4) Variance:\n",
    "* Variance is the average squared deviations from the mean.\n",
    "    * $ σ 2 = ∑(x − \\bar{x} )^2 / 2  $"
   ]
  },
  {
   "cell_type": "markdown",
   "id": "7ee53380",
   "metadata": {},
   "source": [
    "Example without library function: Variance of \"Annual_HH_Income\"."
   ]
  },
  {
   "cell_type": "code",
   "execution_count": 43,
   "id": "1c77d13b",
   "metadata": {},
   "outputs": [
    {
     "name": "stdout",
     "output_type": "stream",
     "text": [
      "100437186889.95831\n"
     ]
    }
   ],
   "source": [
    "mean = data['Annual_HH_Income'].mean()\n",
    "difference = data['Annual_HH_Income'] - mean\n",
    "squared_difference = difference ** 2\n",
    "variance = squared_difference.mean()\n",
    "print(variance)"
   ]
  },
  {
   "cell_type": "markdown",
   "id": "b65e9c05",
   "metadata": {},
   "source": [
    "Example with library function: Variance of \"Annual_HH_Income\"."
   ]
  },
  {
   "cell_type": "code",
   "execution_count": 44,
   "id": "8c564d7f",
   "metadata": {},
   "outputs": [
    {
     "data": {
      "text/plain": [
       "100437186889.95831"
      ]
     },
     "execution_count": 44,
     "metadata": {},
     "output_type": "execute_result"
    }
   ],
   "source": [
    "data['Annual_HH_Income'].var(ddof = 0)"
   ]
  },
  {
   "cell_type": "markdown",
   "id": "14a7d3fa",
   "metadata": {},
   "source": [
    "<img src=\"variance.jpg\" alt=\"drawing\" style=\"width:500px;\"/>"
   ]
  },
  {
   "cell_type": "markdown",
   "id": "9c16638e",
   "metadata": {},
   "source": [
    "## 5) Standard Deviation:\n",
    "* The standard deviation (SD), also represented by the Greek letter sigma σ or the Latin letter (s) is a measure that is used to quantify the amount of variation or dispersion of a set of data values.\n",
    "* $ \\sigma = \\sqrt {\\mu _2 } $"
   ]
  },
  {
   "cell_type": "markdown",
   "id": "843aef0f",
   "metadata": {},
   "source": [
    "Example without library function: Standard Deviation of \"Annual_HH_Income\"."
   ]
  },
  {
   "cell_type": "code",
   "execution_count": 45,
   "id": "3f20378e",
   "metadata": {},
   "outputs": [
    {
     "name": "stdout",
     "output_type": "stream",
     "text": [
      "316918.26531451027\n"
     ]
    }
   ],
   "source": [
    "mean = data['Annual_HH_Income'].mean()\n",
    "difference = data['Annual_HH_Income'] - mean\n",
    "squared_difference = difference ** 2\n",
    "variance = squared_difference.mean()\n",
    "standard_deviation = variance ** (1/2)\n",
    "print(standard_deviation)"
   ]
  },
  {
   "cell_type": "markdown",
   "id": "d76c8004",
   "metadata": {},
   "source": [
    "Example with library function: Standard Deviation of \"Annual_HH_Income\"."
   ]
  },
  {
   "cell_type": "code",
   "execution_count": 46,
   "id": "beeba61d",
   "metadata": {},
   "outputs": [
    {
     "data": {
      "text/plain": [
       "316918.26531451027"
      ]
     },
     "execution_count": 46,
     "metadata": {},
     "output_type": "execute_result"
    }
   ],
   "source": [
    "data['Annual_HH_Income'].std(ddof = 0)"
   ]
  },
  {
   "cell_type": "markdown",
   "id": "8e82ada0",
   "metadata": {},
   "source": [
    "<img src=\"standard_deviation.png\" alt=\"drawing\" style=\"width:400px;\"/>"
   ]
  },
  {
   "cell_type": "markdown",
   "id": "ce8b3afc",
   "metadata": {},
   "source": [
    "## 6) Correlation:\n",
    "* It is used to determine the relationships between two variables.\n",
    "* Correlation Coefficient is denoted by r.\n",
    "* The value ranges from -1 to 1. Here, 0 means no Correlation Coefficient.\n",
    "* $ r = n (∑xy) – ∑x ∑y / √ [n* (∑x2 – (∑x)2)] * [n* (∑y2 – (∑y)2)] $"
   ]
  },
  {
   "cell_type": "code",
   "execution_count": 47,
   "id": "323594ef",
   "metadata": {},
   "outputs": [
    {
     "data": {
      "text/html": [
       "<div>\n",
       "<style scoped>\n",
       "    .dataframe tbody tr th:only-of-type {\n",
       "        vertical-align: middle;\n",
       "    }\n",
       "\n",
       "    .dataframe tbody tr th {\n",
       "        vertical-align: top;\n",
       "    }\n",
       "\n",
       "    .dataframe thead th {\n",
       "        text-align: right;\n",
       "    }\n",
       "</style>\n",
       "<table border=\"1\" class=\"dataframe\">\n",
       "  <thead>\n",
       "    <tr style=\"text-align: right;\">\n",
       "      <th></th>\n",
       "      <th>Mthly_HH_Income</th>\n",
       "      <th>Mthly_HH_Expense</th>\n",
       "      <th>No_of_Fly_Members</th>\n",
       "      <th>Emi_or_Rent_Amt</th>\n",
       "      <th>Annual_HH_Income</th>\n",
       "      <th>No_of_Earning_Members</th>\n",
       "    </tr>\n",
       "  </thead>\n",
       "  <tbody>\n",
       "    <tr>\n",
       "      <th>Mthly_HH_Income</th>\n",
       "      <td>1.000000</td>\n",
       "      <td>0.649215</td>\n",
       "      <td>0.448317</td>\n",
       "      <td>0.036976</td>\n",
       "      <td>0.970315</td>\n",
       "      <td>0.347883</td>\n",
       "    </tr>\n",
       "    <tr>\n",
       "      <th>Mthly_HH_Expense</th>\n",
       "      <td>0.649215</td>\n",
       "      <td>1.000000</td>\n",
       "      <td>0.639702</td>\n",
       "      <td>0.405280</td>\n",
       "      <td>0.591222</td>\n",
       "      <td>0.311915</td>\n",
       "    </tr>\n",
       "    <tr>\n",
       "      <th>No_of_Fly_Members</th>\n",
       "      <td>0.448317</td>\n",
       "      <td>0.639702</td>\n",
       "      <td>1.000000</td>\n",
       "      <td>0.085808</td>\n",
       "      <td>0.430868</td>\n",
       "      <td>0.597482</td>\n",
       "    </tr>\n",
       "    <tr>\n",
       "      <th>Emi_or_Rent_Amt</th>\n",
       "      <td>0.036976</td>\n",
       "      <td>0.405280</td>\n",
       "      <td>0.085808</td>\n",
       "      <td>1.000000</td>\n",
       "      <td>0.002716</td>\n",
       "      <td>-0.097431</td>\n",
       "    </tr>\n",
       "    <tr>\n",
       "      <th>Annual_HH_Income</th>\n",
       "      <td>0.970315</td>\n",
       "      <td>0.591222</td>\n",
       "      <td>0.430868</td>\n",
       "      <td>0.002716</td>\n",
       "      <td>1.000000</td>\n",
       "      <td>0.296679</td>\n",
       "    </tr>\n",
       "    <tr>\n",
       "      <th>No_of_Earning_Members</th>\n",
       "      <td>0.347883</td>\n",
       "      <td>0.311915</td>\n",
       "      <td>0.597482</td>\n",
       "      <td>-0.097431</td>\n",
       "      <td>0.296679</td>\n",
       "      <td>1.000000</td>\n",
       "    </tr>\n",
       "  </tbody>\n",
       "</table>\n",
       "</div>"
      ],
      "text/plain": [
       "                       Mthly_HH_Income  Mthly_HH_Expense  No_of_Fly_Members  \\\n",
       "Mthly_HH_Income               1.000000          0.649215           0.448317   \n",
       "Mthly_HH_Expense              0.649215          1.000000           0.639702   \n",
       "No_of_Fly_Members             0.448317          0.639702           1.000000   \n",
       "Emi_or_Rent_Amt               0.036976          0.405280           0.085808   \n",
       "Annual_HH_Income              0.970315          0.591222           0.430868   \n",
       "No_of_Earning_Members         0.347883          0.311915           0.597482   \n",
       "\n",
       "                       Emi_or_Rent_Amt  Annual_HH_Income  \\\n",
       "Mthly_HH_Income               0.036976          0.970315   \n",
       "Mthly_HH_Expense              0.405280          0.591222   \n",
       "No_of_Fly_Members             0.085808          0.430868   \n",
       "Emi_or_Rent_Amt               1.000000          0.002716   \n",
       "Annual_HH_Income              0.002716          1.000000   \n",
       "No_of_Earning_Members        -0.097431          0.296679   \n",
       "\n",
       "                       No_of_Earning_Members  \n",
       "Mthly_HH_Income                     0.347883  \n",
       "Mthly_HH_Expense                    0.311915  \n",
       "No_of_Fly_Members                   0.597482  \n",
       "Emi_or_Rent_Amt                    -0.097431  \n",
       "Annual_HH_Income                    0.296679  \n",
       "No_of_Earning_Members               1.000000  "
      ]
     },
     "execution_count": 47,
     "metadata": {},
     "output_type": "execute_result"
    }
   ],
   "source": [
    "data.corr()"
   ]
  },
  {
   "cell_type": "code",
   "execution_count": 48,
   "id": "f7bc695a",
   "metadata": {},
   "outputs": [
    {
     "data": {
      "text/plain": [
       "<AxesSubplot:>"
      ]
     },
     "execution_count": 48,
     "metadata": {},
     "output_type": "execute_result"
    },
    {
     "data": {
      "image/png": "[encoded data removed]",
      "text/plain": [
       "<Figure size 432x288 with 2 Axes>"
      ]
     },
     "metadata": {
      "needs_background": "light"
     },
     "output_type": "display_data"
    }
   ],
   "source": [
    "sns.heatmap(data.corr())"
   ]
  },
  {
   "cell_type": "code",
   "execution_count": 49,
   "id": "b19c2a68",
   "metadata": {},
   "outputs": [
    {
     "data": {
      "text/html": [
       "<div>\n",
       "<style scoped>\n",
       "    .dataframe tbody tr th:only-of-type {\n",
       "        vertical-align: middle;\n",
       "    }\n",
       "\n",
       "    .dataframe tbody tr th {\n",
       "        vertical-align: top;\n",
       "    }\n",
       "\n",
       "    .dataframe thead th {\n",
       "        text-align: right;\n",
       "    }\n",
       "</style>\n",
       "<table border=\"1\" class=\"dataframe\">\n",
       "  <thead>\n",
       "    <tr style=\"text-align: right;\">\n",
       "      <th></th>\n",
       "      <th>Mthly_HH_Income</th>\n",
       "      <th>Annual_HH_Income</th>\n",
       "    </tr>\n",
       "  </thead>\n",
       "  <tbody>\n",
       "    <tr>\n",
       "      <th>Mthly_HH_Income</th>\n",
       "      <td>1.000000</td>\n",
       "      <td>0.970315</td>\n",
       "    </tr>\n",
       "    <tr>\n",
       "      <th>Annual_HH_Income</th>\n",
       "      <td>0.970315</td>\n",
       "      <td>1.000000</td>\n",
       "    </tr>\n",
       "  </tbody>\n",
       "</table>\n",
       "</div>"
      ],
      "text/plain": [
       "                  Mthly_HH_Income  Annual_HH_Income\n",
       "Mthly_HH_Income          1.000000          0.970315\n",
       "Annual_HH_Income         0.970315          1.000000"
      ]
     },
     "execution_count": 49,
     "metadata": {},
     "output_type": "execute_result"
    }
   ],
   "source": [
    "data[['Mthly_HH_Income', 'Annual_HH_Income']].corr()"
   ]
  },
  {
   "cell_type": "code",
   "execution_count": 50,
   "id": "4f6d45be",
   "metadata": {},
   "outputs": [
    {
     "data": {
      "text/plain": [
       "<AxesSubplot:>"
      ]
     },
     "execution_count": 50,
     "metadata": {},
     "output_type": "execute_result"
    },
    {
     "data": {
      "image/png": "[encoded data removed]",
      "text/plain": [
       "<Figure size 432x288 with 2 Axes>"
      ]
     },
     "metadata": {
      "needs_background": "light"
     },
     "output_type": "display_data"
    }
   ],
   "source": [
    "sns.heatmap(data[['Mthly_HH_Income', 'Annual_HH_Income']].corr())"
   ]
  },
  {
   "cell_type": "markdown",
   "id": "924be225",
   "metadata": {},
   "source": [
    "<img src=\"correlation.png\" alt=\"drawing\" style=\"width:500px;\"/>"
   ]
  },
  {
   "cell_type": "markdown",
   "id": "f4d87efc",
   "metadata": {},
   "source": [
    "## 7) Normal Distribution:\n",
    "* The normal distribution, also known as the Gaussian distribution, is the most important probability distribution in statistics for independent, random variables. Most people recognize its familiar bell-shaped curve in statistical reports.\n",
    "* $ Z=(X- µ)/ α $"
   ]
  },
  {
   "cell_type": "code",
   "execution_count": 5,
   "id": "bc372a40",
   "metadata": {},
   "outputs": [
    {
     "data": {
      "image/png": "[encoded data removed]",
      "text/plain": [
       "<Figure size 432x288 with 1 Axes>"
      ]
     },
     "metadata": {
      "needs_background": "light"
     },
     "output_type": "display_data"
    }
   ],
   "source": [
    "mean = np.mean(data['Annual_HH_Income'])\n",
    "std = np.std(data['Annual_HH_Income'])\n",
    "\n",
    "pdf = stats.norm.pdf(data['Annual_HH_Income'].sort_values(), mean, std)\n",
    "\n",
    "plt.plot(data[\"Annual_HH_Income\"].sort_values(), pdf, color = 'g')\n",
    "plt.xlabel(\"Income\", size=12)    \n",
    "plt.ylabel(\"Frequency\", size=12)                \n",
    "plt.grid(True, alpha=0.3, linestyle=\"--\")\n",
    "plt.show()"
   ]
  },
  {
   "cell_type": "markdown",
   "id": "0b67aefa",
   "metadata": {},
   "source": [
    "<img src=\"normal_distribution.jpg\" alt=\"drawing\" style=\"width:500px;\"/>"
   ]
  },
  {
   "cell_type": "markdown",
   "id": "80bf5c9f",
   "metadata": {},
   "source": [
    "## 8) Feature of Normal Distribution:\n",
    "\n",
    "Normal Distribution has the following characteristics that distinguish it from the other forms of probability representations:\n",
    "\n",
    "* Empirical Rule: In a normal distribution, 68% of the observations are confined within -/+ one standard deviation, 95% of the values fall within -/+ two standard deviations, and almost 99.7% of values are confined to -/+ three standard deviations.\n",
    "* Bell-shaped Curve: Most of the values lie at the center, and fewer values lie at the tail extremities. This results in a bell-shaped curve.\n",
    "* Mean and Standard Deviation: This data representation is shaped by mean and standard deviation.\n",
    "* Equal Central Tendencies: The mean, median, and mode of this data are equal.\n",
    "* Symmetric: The normal distribution curve is centrally symmetric. Therefore, half of the values are to the left of the center, and the remaining values appear on the right. \n",
    "* Skewness and Kurtosis: Skewness is the the symmetry. The skewness for a normal distribution is zero. Kurtosis studies the tail of the represented data. For a normal distribution, the kurtosis is 3.\n",
    "* Total Area = 1: The total value of the standard deviation, i.e., the complete area of the curve under this probability function, is one. Also, the entire mean is zero."
   ]
  },
  {
   "cell_type": "markdown",
   "id": "8a9aa287",
   "metadata": {},
   "source": [
    "<img src=\"norm.jpg\" alt=\"drawing\" style=\"width:600px;\"/>"
   ]
  },
  {
   "cell_type": "markdown",
   "id": "c1dbdbb9",
   "metadata": {},
   "source": [
    "## 9) Posetively Skewed Normal Distribution:\n",
    "* In statistics, a positively skewed (or right-skewed) distribution is a type of distribution in which most values are clustered around the left tail of the distribution while the right tail of the distribution is longer. The positively skewed distribution is the direct opposite of the negatively skewed distribution."
   ]
  },
  {
   "cell_type": "markdown",
   "id": "601edac2",
   "metadata": {},
   "source": [
    "<img src=\"positive.png\" alt=\"drawing\" style=\"width:600px;\"/>"
   ]
  },
  {
   "cell_type": "markdown",
   "id": "12ddc393",
   "metadata": {},
   "source": [
    "## Negatively Skewed Normal Distribution:\n",
    "* In statistics, a negatively skewed (also known as left-skewed) distribution is a type of distribution in which more values are concentrated on the right side (tail) of the distribution graph while the left tail of the distribution graph is longer."
   ]
  },
  {
   "cell_type": "markdown",
   "id": "ba7e14b9",
   "metadata": {},
   "source": [
    "<img src=\"negative.png\" alt=\"drawing\" style=\"width:600px;\"/>"
   ]
  },
  {
   "cell_type": "markdown",
   "id": "ec1d5c4c",
   "metadata": {},
   "source": [
    "## 10) Effect on Mean, Median and Mode due to Skewness:"
   ]
  },
  {
   "cell_type": "markdown",
   "id": "1cd1162e",
   "metadata": {},
   "source": [
    "* Consider the following data set.\n",
    "\n",
    "4; 5; 6; 6; 6; 7; 7; 7; 7; 7; 7; 8; 8; 8; 9; 10\n",
    "\n",
    "This data set can be represented by following histogram. Each interval has width one, and each value is located in the middle of an interval.\n",
    "\n",
    "Figure 1."
   ]
  },
  {
   "cell_type": "markdown",
   "id": "9394dd3f",
   "metadata": {},
   "source": [
    "<img src=\"symmetrical.jpg\" alt=\"drawing\" style=\"width:600px;\"/>"
   ]
  },
  {
   "cell_type": "markdown",
   "id": "80fa3e43",
   "metadata": {},
   "source": [
    "The histogram displays a symmetrical distribution of data. A distribution is symmetrical if a vertical line can be drawn at some point in the histogram such that the shape to the left and the right of the vertical line are mirror images of each other. The mean, the median, and the mode are each seven for these data. In a perfectly symmetrical distribution, the mean and the median are the same. This example has one mode (unimodal), and the mode is the same as the mean and median. In a symmetrical distribution that has two modes (bimodal), the two modes would be different from the mean and median.\n",
    "\n",
    "The histogram for the data: 4566677778 is not symmetrical. The right-hand side seems “chopped off” compared to the left side. A distribution of this type is called skewed to the left because it is pulled out to the left.\n",
    "\n",
    "Figure 2."
   ]
  },
  {
   "cell_type": "markdown",
   "id": "79f9f51f",
   "metadata": {},
   "source": [
    "<img src=\"left.jpg\" alt=\"drawing\" style=\"width:600px;\"/>"
   ]
  },
  {
   "cell_type": "markdown",
   "id": "5eb0043e",
   "metadata": {},
   "source": [
    "The mean is 6.3, the median is 6.5, and the mode is seven. Notice that the mean is less than the median, and they are both less than the mode. The mean and the median both reflect the skewing, but the mean reflects it more so.\n",
    "\n",
    "The histogram for the data: 67777888910, is also not symmetrical. It is skewed to the right.\n",
    "\n",
    "Figure 3."
   ]
  },
  {
   "cell_type": "markdown",
   "id": "22e25453",
   "metadata": {},
   "source": [
    "<img src=\"right.jpg\" alt=\"drawing\" style=\"width:600px;\"/>"
   ]
  },
  {
   "cell_type": "markdown",
   "id": "8a5aff2d",
   "metadata": {},
   "source": [
    "The mean is 7.7, the median is 7.5, and the mode is seven. Of the three statistics, the mean is the largest, while the mode is the smallest. Again, the mean reflects the skewing the most.\n",
    "\n",
    "To summarize, generally if the distribution of data is skewed to the left, the mean is less than the median, which is often less than the mode. If the distribution of data is skewed to the right, the mode is often less than the median, which is less than the mean."
   ]
  },
  {
   "cell_type": "markdown",
   "id": "23e4e8f0",
   "metadata": {},
   "source": [
    "## 11) Explain QQ Plot and show the implementation of the same:\n",
    "* The quantile-quantile plot is a graphical method for determining whether two samples of data came from the same population or not. A q-q plot is a plot of the quantiles of the first data set against the quantiles of the second data set. By a quantile, we mean the fraction (or percent) of points below the given value. \n",
    "\n",
    "* For the reference purpose, a 45% line is also plotted, if the samples are from the same population then the points are along this line."
   ]
  },
  {
   "cell_type": "code",
   "execution_count": 52,
   "id": "04e0e18c",
   "metadata": {},
   "outputs": [
    {
     "data": {
      "image/png": "[encoded data removed]",
      "text/plain": [
       "<Figure size 432x288 with 1 Axes>"
      ]
     },
     "metadata": {
      "needs_background": "light"
     },
     "output_type": "display_data"
    }
   ],
   "source": [
    "# Random data points generated\n",
    "data_points = np.random.normal(0, 1, 100) \n",
    "sm.qqplot(data_points, line ='45')\n",
    "py.show()"
   ]
  },
  {
   "cell_type": "markdown",
   "id": "949bac2c",
   "metadata": {},
   "source": [
    "<img src=\"qq.jpeg\" alt=\"drawing\" style=\"width:600px;\"/>"
   ]
  },
  {
   "cell_type": "markdown",
   "id": "01f93698",
   "metadata": {},
   "source": [
    "## 12) Explain Box Cox and show the implementation of the same:\n",
    "* The Box-Cox transformation is to transform the data so that its distribution is as close to a normal distribution as possible, that is, the histogram looks like a bell.\n",
    "\n",
    "* This technique has its place in feature engineering because not all species of predictive models are robust to skewed data, so it is worth using when experimenting. It probably won’t provide a spectacular improvement, although at the fine-tuning stage it can serve its purpose by improving our evaluation metric."
   ]
  },
  {
   "cell_type": "markdown",
   "id": "c200a36c",
   "metadata": {},
   "source": [
    "Distribution before Box Cox Transformation:"
   ]
  },
  {
   "cell_type": "code",
   "execution_count": 53,
   "id": "20e696bb",
   "metadata": {},
   "outputs": [
    {
     "data": {
      "text/plain": [
       "<AxesSubplot:xlabel='Annual_HH_Income', ylabel='Density'>"
      ]
     },
     "execution_count": 53,
     "metadata": {},
     "output_type": "execute_result"
    },
    {
     "data": {
      "image/png": "[encoded data removed]",
      "text/plain": [
       "<Figure size 432x288 with 1 Axes>"
      ]
     },
     "metadata": {
      "needs_background": "light"
     },
     "output_type": "display_data"
    }
   ],
   "source": [
    "#plot the distribution of data values\n",
    "sns.distplot(data['Annual_HH_Income'], hist=False, kde=True)"
   ]
  },
  {
   "cell_type": "markdown",
   "id": "9dcaf619",
   "metadata": {},
   "source": [
    "Distribution after Box Cox Transformation:"
   ]
  },
  {
   "cell_type": "code",
   "execution_count": 54,
   "id": "2043d55b",
   "metadata": {},
   "outputs": [
    {
     "data": {
      "text/plain": [
       "<AxesSubplot:ylabel='Density'>"
      ]
     },
     "execution_count": 54,
     "metadata": {},
     "output_type": "execute_result"
    },
    {
     "data": {
      "image/png": "[encoded data removed]",
      "text/plain": [
       "<Figure size 432x288 with 1 Axes>"
      ]
     },
     "metadata": {
      "needs_background": "light"
     },
     "output_type": "display_data"
    }
   ],
   "source": [
    "#perform Box-Cox transformation on original data\n",
    "transformed_data, best_lambda = stats.boxcox(data['Annual_HH_Income']) \n",
    "\n",
    "#plot the distribution of the transformed data values\n",
    "sns.distplot(transformed_data, hist=False, kde=True)"
   ]
  },
  {
   "cell_type": "markdown",
   "id": "1f0f3b32",
   "metadata": {},
   "source": [
    "<img src=\"boxcox.png\" alt=\"drawing\" style=\"width:800px;\"/>"
   ]
  },
  {
   "cell_type": "code",
   "execution_count": null,
   "id": "a299021c",
   "metadata": {},
   "outputs": [],
   "source": []
  }
 ],
 "metadata": {
  "kernelspec": {
   "display_name": "Python 3 (ipykernel)",
   "language": "python",
   "name": "python3"
  },
  "language_info": {
   "codemirror_mode": {
    "name": "ipython",
    "version": 3
   },
   "file_extension": ".py",
   "mimetype": "text/x-python",
   "name": "python",
   "nbconvert_exporter": "python",
   "pygments_lexer": "ipython3",
   "version": "3.9.12"
  }
 },
 "nbformat": 4,
 "nbformat_minor": 5
}
